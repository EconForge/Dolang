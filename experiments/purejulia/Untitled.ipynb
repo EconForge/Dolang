{
 "cells": [
  {
   "cell_type": "code",
   "execution_count": 8,
   "metadata": {},
   "outputs": [
    {
     "data": {
      "text/plain": [
       ":(function f(x)\n",
       "      #= none:2 =#\n",
       "      return x\n",
       "  end)"
      ]
     },
     "execution_count": 8,
     "metadata": {},
     "output_type": "execute_result"
    }
   ],
   "source": [
    "src = Meta.parse(\"function f(x)\n",
    "        return x\n",
    "    end\")"
   ]
  },
  {
   "cell_type": "code",
   "execution_count": 93,
   "metadata": {},
   "outputs": [
    {
     "data": {
      "text/plain": [
       ":JI"
      ]
     },
     "execution_count": 93,
     "metadata": {},
     "output_type": "execute_result"
    }
   ],
   "source": [
    "Symbol(\"JI\")"
   ]
  },
  {
   "cell_type": "code",
   "execution_count": null,
   "metadata": {},
   "outputs": [],
   "source": []
  },
  {
   "cell_type": "code",
   "execution_count": 148,
   "metadata": {},
   "outputs": [
    {
     "data": {
      "text/plain": [
       "@quickdef (macro with 2 methods)"
      ]
     },
     "execution_count": 148,
     "metadata": {},
     "output_type": "execute_result"
    }
   ],
   "source": [
    "function rewrite_function(funcode, d, dict_name=:parameters)\n",
    "\n",
    "    new_definitions = Expr[]\n",
    "    for k in keys(d)\n",
    "        expr = :($k = parameters[$(Meta.quot(k))])\n",
    "        push!(new_definitions, expr)\n",
    "    end\n",
    "    code = \n",
    "    new_code = cat(\n",
    "        new_definitions,\n",
    "        funcode.args[2].args;\n",
    "        dims=1\n",
    "    )\n",
    "    newfun = deepcopy(funcode)\n",
    "    push!(newfun.args[1].args, dict_name)\n",
    "    newfun.args[2].args = new_code\n",
    "    \n",
    "    return newfun\n",
    "    \n",
    "end\n",
    "\n",
    "macro quickdef( parameters, content)\n",
    "    funcode = copy((content).args[2])\n",
    "    h = Meta.eval(parameters)\n",
    "    new_funcode = rewrite_function(funcode, h)\n",
    "    # if debug\n",
    "        # println(new_funcode)\n",
    "    # end\n",
    "    Meta.eval(new_funcode)\n",
    "end"
   ]
  },
  {
   "cell_type": "code",
   "execution_count": 146,
   "metadata": {},
   "outputs": [
    {
     "data": {
      "text/plain": [
       "Dict{Symbol,Float64} with 2 entries:\n",
       "  :a => 0.1\n",
       "  :b => 0.5"
      ]
     },
     "execution_count": 146,
     "metadata": {},
     "output_type": "execute_result"
    }
   ],
   "source": [
    "d = Dict(:a=>0.1, :b=> 0.5)\n"
   ]
  },
  {
   "cell_type": "code",
   "execution_count": 156,
   "metadata": {},
   "outputs": [
    {
     "ename": "LoadError",
     "evalue": "syntax: extra token \"function\" after end of expression",
     "output_type": "error",
     "traceback": [
      "syntax: extra token \"function\" after end of expression",
      ""
     ]
    }
   ],
   "source": [
    "@quickdef d function g(x)\n",
    "    return x+a\n",
    "end"
   ]
  },
  {
   "cell_type": "code",
   "execution_count": null,
   "metadata": {},
   "outputs": [],
   "source": []
  },
  {
   "cell_type": "code",
   "execution_count": null,
   "metadata": {},
   "outputs": [],
   "source": []
  }
 ],
 "metadata": {
  "kernelspec": {
   "display_name": "Julia 1.4.2",
   "language": "julia",
   "name": "julia-1.4"
  },
  "language_info": {
   "file_extension": ".jl",
   "mimetype": "application/julia",
   "name": "julia",
   "version": "1.4.2"
  }
 },
 "nbformat": 4,
 "nbformat_minor": 4
}
