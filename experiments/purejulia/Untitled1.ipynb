{
 "cells": [
  {
   "cell_type": "code",
   "execution_count": 1,
   "metadata": {},
   "outputs": [
    {
     "data": {
      "text/plain": [
       "3"
      ]
     },
     "execution_count": 1,
     "metadata": {},
     "output_type": "execute_result"
    }
   ],
   "source": [
    "a = 3"
   ]
  },
  {
   "cell_type": "code",
   "execution_count": 6,
   "metadata": {},
   "outputs": [
    {
     "name": "stdout",
     "output_type": "stream",
     "text": [
      "search: \u001b[0m\u001b[1mr\u001b[22m\u001b[0m\u001b[1ma\u001b[22m\u001b[0m\u001b[1mn\u001b[22m\u001b[0m\u001b[1md\u001b[22m\u001b[0m\u001b[1mn\u001b[22m \u001b[0m\u001b[1mr\u001b[22m\u001b[0m\u001b[1ma\u001b[22m\u001b[0m\u001b[1mn\u001b[22m\u001b[0m\u001b[1md\u001b[22m t\u001b[0m\u001b[1mr\u001b[22m\u001b[0m\u001b[1ma\u001b[22m\u001b[0m\u001b[1mn\u001b[22msco\u001b[0m\u001b[1md\u001b[22me mac\u001b[0m\u001b[1mr\u001b[22moexp\u001b[0m\u001b[1ma\u001b[22m\u001b[0m\u001b[1mn\u001b[22m\u001b[0m\u001b[1md\u001b[22m @mac\u001b[0m\u001b[1mr\u001b[22moexp\u001b[0m\u001b[1ma\u001b[22m\u001b[0m\u001b[1mn\u001b[22m\u001b[0m\u001b[1md\u001b[22m1 @mac\u001b[0m\u001b[1mr\u001b[22moexp\u001b[0m\u001b[1ma\u001b[22m\u001b[0m\u001b[1mn\u001b[22m\u001b[0m\u001b[1md\u001b[22m\n",
      "\n"
     ]
    },
    {
     "data": {
      "text/latex": [
       "\\begin{verbatim}\n",
       "randn([rng=GLOBAL_RNG], [T=Float64], [dims...])\n",
       "\\end{verbatim}\n",
       "Generate a normally-distributed random number of type \\texttt{T} with mean 0 and standard deviation 1. Optionally generate an array of normally-distributed random numbers. The \\texttt{Base} module currently provides an implementation for the types \\href{@ref}{\\texttt{Float16}}, \\href{@ref}{\\texttt{Float32}}, and \\href{@ref}{\\texttt{Float64}} (the default), and their \\href{@ref}{\\texttt{Complex}} counterparts. When the type argument is complex, the values are drawn from the circularly symmetric complex normal distribution of variance 1 (corresponding to real and imaginary part having independent normal distribution with mean zero and variance \\texttt{1/2}).\n",
       "\n",
       "\\section{Examples}\n",
       "\\begin{verbatim}\n",
       "julia> using Random\n",
       "\n",
       "julia> rng = MersenneTwister(1234);\n",
       "\n",
       "julia> randn(rng, ComplexF64)\n",
       "0.6133070881429037 - 0.6376291670853887im\n",
       "\n",
       "julia> randn(rng, ComplexF32, (2, 3))\n",
       "2×3 Array{Complex{Float32},2}:\n",
       " -0.349649-0.638457im  0.376756-0.192146im  -0.396334-0.0136413im\n",
       "  0.611224+1.56403im   0.355204-0.365563im  0.0905552+1.31012im\n",
       "\\end{verbatim}\n"
      ],
      "text/markdown": [
       "```\n",
       "randn([rng=GLOBAL_RNG], [T=Float64], [dims...])\n",
       "```\n",
       "\n",
       "Generate a normally-distributed random number of type `T` with mean 0 and standard deviation 1. Optionally generate an array of normally-distributed random numbers. The `Base` module currently provides an implementation for the types [`Float16`](@ref), [`Float32`](@ref), and [`Float64`](@ref) (the default), and their [`Complex`](@ref) counterparts. When the type argument is complex, the values are drawn from the circularly symmetric complex normal distribution of variance 1 (corresponding to real and imaginary part having independent normal distribution with mean zero and variance `1/2`).\n",
       "\n",
       "# Examples\n",
       "\n",
       "```jldoctest\n",
       "julia> using Random\n",
       "\n",
       "julia> rng = MersenneTwister(1234);\n",
       "\n",
       "julia> randn(rng, ComplexF64)\n",
       "0.6133070881429037 - 0.6376291670853887im\n",
       "\n",
       "julia> randn(rng, ComplexF32, (2, 3))\n",
       "2×3 Array{Complex{Float32},2}:\n",
       " -0.349649-0.638457im  0.376756-0.192146im  -0.396334-0.0136413im\n",
       "  0.611224+1.56403im   0.355204-0.365563im  0.0905552+1.31012im\n",
       "```\n"
      ],
      "text/plain": [
       "\u001b[36m  randn([rng=GLOBAL_RNG], [T=Float64], [dims...])\u001b[39m\n",
       "\n",
       "  Generate a normally-distributed random number of type \u001b[36mT\u001b[39m with mean 0 and\n",
       "  standard deviation 1. Optionally generate an array of normally-distributed\n",
       "  random numbers. The \u001b[36mBase\u001b[39m module currently provides an implementation for the\n",
       "  types \u001b[36mFloat16\u001b[39m, \u001b[36mFloat32\u001b[39m, and \u001b[36mFloat64\u001b[39m (the default), and their \u001b[36mComplex\u001b[39m\n",
       "  counterparts. When the type argument is complex, the values are drawn from\n",
       "  the circularly symmetric complex normal distribution of variance 1\n",
       "  (corresponding to real and imaginary part having independent normal\n",
       "  distribution with mean zero and variance \u001b[36m1/2\u001b[39m).\n",
       "\n",
       "\u001b[1m  Examples\u001b[22m\n",
       "\u001b[1m  ≡≡≡≡≡≡≡≡≡≡\u001b[22m\n",
       "\n",
       "\u001b[36m  julia> using Random\u001b[39m\n",
       "\u001b[36m  \u001b[39m\n",
       "\u001b[36m  julia> rng = MersenneTwister(1234);\u001b[39m\n",
       "\u001b[36m  \u001b[39m\n",
       "\u001b[36m  julia> randn(rng, ComplexF64)\u001b[39m\n",
       "\u001b[36m  0.6133070881429037 - 0.6376291670853887im\u001b[39m\n",
       "\u001b[36m  \u001b[39m\n",
       "\u001b[36m  julia> randn(rng, ComplexF32, (2, 3))\u001b[39m\n",
       "\u001b[36m  2×3 Array{Complex{Float32},2}:\u001b[39m\n",
       "\u001b[36m   -0.349649-0.638457im  0.376756-0.192146im  -0.396334-0.0136413im\u001b[39m\n",
       "\u001b[36m    0.611224+1.56403im   0.355204-0.365563im  0.0905552+1.31012im\u001b[39m"
      ]
     },
     "execution_count": 6,
     "metadata": {},
     "output_type": "execute_result"
    }
   ],
   "source": [
    "?randn"
   ]
  },
  {
   "cell_type": "code",
   "execution_count": 9,
   "metadata": {},
   "outputs": [
    {
     "name": "stderr",
     "output_type": "stream",
     "text": [
      "┌ Info: Precompiling Distributions [31c24e10-a181-5473-b8eb-7969acd0382f]\n",
      "└ @ Base loading.jl:1260\n"
     ]
    }
   ],
   "source": [
    "using Distributions"
   ]
  },
  {
   "cell_type": "code",
   "execution_count": 15,
   "metadata": {},
   "outputs": [
    {
     "data": {
      "text/plain": [
       "ZeroMeanFullNormal(\n",
       "dim: 2\n",
       "μ: [0.0, 0.0]\n",
       "Σ: [9.0 0.0; 0.0 0.1]\n",
       ")\n"
      ]
     },
     "execution_count": 15,
     "metadata": {},
     "output_type": "execute_result"
    }
   ],
   "source": []
  },
  {
   "cell_type": "code",
   "execution_count": 35,
   "metadata": {},
   "outputs": [
    {
     "data": {
      "text/plain": [
       "simulate_AR1 (generic function with 1 method)"
      ]
     },
     "execution_count": 35,
     "metadata": {},
     "output_type": "execute_result"
    }
   ],
   "source": []
  },
  {
   "cell_type": "code",
   "execution_count": 36,
   "metadata": {},
   "outputs": [
    {
     "data": {
      "text/plain": [
       "2×2 Array{Float64,2}:\n",
       " 0.1    0.001\n",
       " 0.001  0.1"
      ]
     },
     "execution_count": 36,
     "metadata": {},
     "output_type": "execute_result"
    }
   ],
   "source": [
    "R = [0.9 0.001; 0.001 0.9]\n",
    "Σ = [0.1 0.001; 0.001 0.1]"
   ]
  },
  {
   "cell_type": "code",
   "execution_count": 61,
   "metadata": {},
   "outputs": [
    {
     "name": "stdout",
     "output_type": "stream",
     "text": [
      "[0.0, 0.0]\n",
      "  0.029773 seconds (500.12 k allocations: 39.676 MiB, 14.35% gc time)\n"
     ]
    },
    {
     "data": {
      "text/plain": [
       "2×100000 Array{Float64,2}:\n",
       " 0.0  -0.112207    0.154457  0.643342  …  -0.456298  -0.78983  -0.428279\n",
       " 0.0  -0.0110298  -0.122583  0.558112     -0.524118  -0.89321  -0.41718"
      ]
     },
     "execution_count": 61,
     "metadata": {},
     "output_type": "execute_result"
    }
   ],
   "source": [
    "function simulate_AR1(R::Matrix{Float64}, Σ::Matrix{Float64}; s0::Vector{Float64}=zeros(size(Σ,1)), T=100)\n",
    "    dis = MvNormal(Σ)\n",
    "    n = size(R,1)\n",
    "    println(s0)\n",
    "    sim = zeros(n,T)\n",
    "    sim[:,1] = s0\n",
    "    for t=1:T-1\n",
    "        s = sim[:,t]\n",
    "        ϵ = rand(dis)\n",
    "        sim[:,t+1] = R*s + ϵ\n",
    "    end\n",
    "    return sim\n",
    "    \n",
    "end\n",
    "@time sim = simulate_AR1(R, Σ;T=100000)"
   ]
  },
  {
   "cell_type": "code",
   "execution_count": 59,
   "metadata": {},
   "outputs": [
    {
     "name": "stdout",
     "output_type": "stream",
     "text": [
      "[0.0, 0.0]\n",
      "  0.029974 seconds (500.12 k allocations: 39.676 MiB, 14.78% gc time)\n"
     ]
    },
    {
     "data": {
      "text/plain": [
       "2×100000 Array{Float64,2}:\n",
       " 0.0   0.234563   0.112983  -0.0440957  …  -0.375937   -0.506763  -0.413832\n",
       " 0.0  -0.601531  -1.36904   -1.77055        0.0687324   0.096512  -0.183513"
      ]
     },
     "execution_count": 59,
     "metadata": {},
     "output_type": "execute_result"
    }
   ],
   "source": []
  },
  {
   "cell_type": "code",
   "execution_count": 50,
   "metadata": {},
   "outputs": [
    {
     "data": {
      "text/plain": [
       "(2, 100000)"
      ]
     },
     "execution_count": 50,
     "metadata": {},
     "output_type": "execute_result"
    }
   ],
   "source": [
    "size(sim)"
   ]
  },
  {
   "cell_type": "code",
   "execution_count": 62,
   "metadata": {},
   "outputs": [
    {
     "name": "stdout",
     "output_type": "stream",
     "text": [
      "[0.0, 0.0]\n",
      "  0.030326 seconds (500.12 k allocations: 39.676 MiB, 14.96% gc time)\n"
     ]
    }
   ],
   "source": [
    "function simulate_AR1_2(R::Matrix{Float64}, Σ::Matrix{Float64}; s0::Vector{Float64}=zeros(size(Σ,1)), T=100)\n",
    "    dis = MvNormal(Σ)\n",
    "    n = size(R,1)\n",
    "    println(s0)\n",
    "    sim = zeros(T,n)\n",
    "    sim[1,:] = s0\n",
    "    for t=1:T-1\n",
    "        s = sim[t,:]\n",
    "        ϵ = rand(dis)\n",
    "        sim[t+1,:] = R*s + ϵ\n",
    "    end\n",
    "    return sim\n",
    "    \n",
    "end\n",
    "@time sim = simulate_AR1_2(R, Σ;T=100000);"
   ]
  },
  {
   "cell_type": "code",
   "execution_count": 52,
   "metadata": {},
   "outputs": [],
   "source": [
    "using StaticArrays"
   ]
  },
  {
   "cell_type": "code",
   "execution_count": 75,
   "metadata": {},
   "outputs": [
    {
     "ename": "ErrorException",
     "evalue": "The size of type `SArray{Tuple{S1,S2},T,2,L} where L where T where S2 where S1` is not known.\n\nIf you were trying to construct (or `convert` to) a `StaticArray` you\nmay need to add the size explicitly as a type parameter so its size is\ninferrable to the Julia compiler (or performance would be terrible). For\nexample, you might try\n\n    m = zeros(3,3)\n    SMatrix(m)            # this error\n    SMatrix{3,3}(m)       # correct - size is inferrable\n    SArray{Tuple{3,3}}(m) # correct, note Tuple{3,3}\n",
     "output_type": "error",
     "traceback": [
      "The size of type `SArray{Tuple{S1,S2},T,2,L} where L where T where S2 where S1` is not known.\n\nIf you were trying to construct (or `convert` to) a `StaticArray` you\nmay need to add the size explicitly as a type parameter so its size is\ninferrable to the Julia compiler (or performance would be terrible). For\nexample, you might try\n\n    m = zeros(3,3)\n    SMatrix(m)            # this error\n    SMatrix{3,3}(m)       # correct - size is inferrable\n    SArray{Tuple{3,3}}(m) # correct, note Tuple{3,3}\n",
      "",
      "Stacktrace:",
      " [1] error(::String) at ./error.jl:33",
      " [2] missing_size_error(::Type{SArray{Tuple{S1,S2},T,2,L} where L where T where S2 where S1}) at /home/pablo/.julia/packages/StaticArrays/mlIi1/src/traits.jl:72",
      " [3] Size(::Type{SArray{Tuple{S1,S2},T,2,L} where L where T where S2 where S1}) at /home/pablo/.julia/packages/StaticArrays/mlIi1/src/traits.jl:89",
      " [4] length(::Type{SArray{Tuple{S1,S2},T,2,L} where L where T where S2 where S1}) at /home/pablo/.julia/packages/StaticArrays/mlIi1/src/abstractarray.jl:2",
      " [5] convert at /home/pablo/.julia/packages/StaticArrays/mlIi1/src/convert.jl:28 [inlined]",
      " [6] StaticArray at /home/pablo/.julia/packages/StaticArrays/mlIi1/src/convert.jl:7 [inlined]",
      " [7] simulate_AR1_2(::Array{Float64,2}, ::Array{Float64,2}; s0::SArray{Tuple{2},Float64,1,2}, T::Int64) at ./In[74]:4",
      " [8] macro expansion at ./util.jl:175 [inlined]",
      " [9] top-level scope at ./In[75]:11"
     ]
    }
   ],
   "source": [
    "function simulate_AR1_2(R::SMatrix, Σ::SMatrix; s0::SVector=zero(SVector(Σ[:,1]...)), T=100)\n",
    "    dis = MvNormal(Σ)\n",
    "    res = zeros(typeof(s0), T)\n",
    "    res[1] = s0\n",
    "    for t=1:T-1\n",
    "        s = sim[t]\n",
    "        ϵ = rand(dis)\n",
    "        sim[t+1] = R*s + ϵ\n",
    "    end\n",
    "end\n",
    "@SMatrix R\n",
    "@time sim = simulate_AR1_2(R, Σ;T=100000)"
   ]
  },
  {
   "cell_type": "code",
   "execution_count": 76,
   "metadata": {},
   "outputs": [
    {
     "ename": "ErrorException",
     "evalue": "The size of type `SArray{Tuple{S1,S2},T,2,L} where L where T where S2 where S1` is not known.\n\nIf you were trying to construct (or `convert` to) a `StaticArray` you\nmay need to add the size explicitly as a type parameter so its size is\ninferrable to the Julia compiler (or performance would be terrible). For\nexample, you might try\n\n    m = zeros(3,3)\n    SMatrix(m)            # this error\n    SMatrix{3,3}(m)       # correct - size is inferrable\n    SArray{Tuple{3,3}}(m) # correct, note Tuple{3,3}\n",
     "output_type": "error",
     "traceback": [
      "The size of type `SArray{Tuple{S1,S2},T,2,L} where L where T where S2 where S1` is not known.\n\nIf you were trying to construct (or `convert` to) a `StaticArray` you\nmay need to add the size explicitly as a type parameter so its size is\ninferrable to the Julia compiler (or performance would be terrible). For\nexample, you might try\n\n    m = zeros(3,3)\n    SMatrix(m)            # this error\n    SMatrix{3,3}(m)       # correct - size is inferrable\n    SArray{Tuple{3,3}}(m) # correct, note Tuple{3,3}\n",
      "",
      "Stacktrace:",
      " [1] error(::String) at ./error.jl:33",
      " [2] missing_size_error(::Type{SArray{Tuple{S1,S2},T,2,L} where L where T where S2 where S1}) at /home/pablo/.julia/packages/StaticArrays/mlIi1/src/traits.jl:72",
      " [3] Size(::Type{SArray{Tuple{S1,S2},T,2,L} where L where T where S2 where S1}) at /home/pablo/.julia/packages/StaticArrays/mlIi1/src/traits.jl:89",
      " [4] length(::Type{SArray{Tuple{S1,S2},T,2,L} where L where T where S2 where S1}) at /home/pablo/.julia/packages/StaticArrays/mlIi1/src/abstractarray.jl:2",
      " [5] convert at /home/pablo/.julia/packages/StaticArrays/mlIi1/src/convert.jl:28 [inlined]",
      " [6] SArray{Tuple{S1,S2},T,2,L} where L where T where S2 where S1(::Array{Float64,2}) at /home/pablo/.julia/packages/StaticArrays/mlIi1/src/convert.jl:7",
      " [7] top-level scope at In[76]:1"
     ]
    }
   ],
   "source": [
    "SMatrix(R)"
   ]
  },
  {
   "cell_type": "code",
   "execution_count": 72,
   "metadata": {},
   "outputs": [
    {
     "data": {
      "text/plain": [
       "2-element SArray{Tuple{2},Float64,1,2} with indices SOneTo(2):\n",
       " 0.0\n",
       " 0.0"
      ]
     },
     "execution_count": 72,
     "metadata": {},
     "output_type": "execute_result"
    }
   ],
   "source": [
    "zero(SVector(Σ[:,1]...))"
   ]
  },
  {
   "cell_type": "code",
   "execution_count": null,
   "metadata": {},
   "outputs": [],
   "source": []
  }
 ],
 "metadata": {
  "kernelspec": {
   "display_name": "Julia 1.4.2",
   "language": "julia",
   "name": "julia-1.4"
  },
  "language_info": {
   "file_extension": ".jl",
   "mimetype": "application/julia",
   "name": "julia",
   "version": "1.4.2"
  }
 },
 "nbformat": 4,
 "nbformat_minor": 4
}
